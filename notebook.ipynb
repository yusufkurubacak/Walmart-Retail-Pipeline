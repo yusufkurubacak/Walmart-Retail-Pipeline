{
 "cells": [
  {
   "cell_type": "markdown",
   "id": "049e5d25-c8d3-41cf-9f04-e1cb097a564d",
   "metadata": {},
   "source": [
    "## Importing Libraries"
   ]
  },
  {
   "cell_type": "code",
   "execution_count": 62,
   "id": "c0d64ff1-a4ca-4a82-a8b4-e210244dedc1",
   "metadata": {
    "executionCancelledAt": null,
    "executionTime": 47,
    "lastExecutedAt": 1712843647306,
    "lastExecutedByKernel": "2ecbf671-bddd-4606-a328-03b1d5a7dde9",
    "lastScheduledRunId": null,
    "lastSuccessfullyExecutedCode": "import pandas as pd\nimport os"
   },
   "outputs": [],
   "source": [
    "import os\n",
    "import pandas as pd"
   ]
  },
  {
   "cell_type": "markdown",
   "id": "8399e439-b8cf-466e-bcb7-6611938a5441",
   "metadata": {},
   "source": [
    "## Initial Exploration"
   ]
  },
  {
   "cell_type": "code",
   "execution_count": 60,
   "id": "471f2cc7-46eb-4ece-acd8-3846d9257a3b",
   "metadata": {
    "executionCancelledAt": null,
    "executionTime": 52,
    "lastExecutedAt": 1712843647410,
    "lastExecutedByKernel": "2ecbf671-bddd-4606-a328-03b1d5a7dde9",
    "lastScheduledRunId": null,
    "lastSuccessfullyExecutedCode": "grocery_sales.head()",
    "outputsMetadata": {
     "0": {
      "height": 194,
      "type": "dataFrame"
     }
    }
   },
   "outputs": [
    {
     "data": {
      "text/html": [
       "<div>\n",
       "<style scoped>\n",
       "    .dataframe tbody tr th:only-of-type {\n",
       "        vertical-align: middle;\n",
       "    }\n",
       "\n",
       "    .dataframe tbody tr th {\n",
       "        vertical-align: top;\n",
       "    }\n",
       "\n",
       "    .dataframe thead th {\n",
       "        text-align: right;\n",
       "    }\n",
       "</style>\n",
       "<table border=\"1\" class=\"dataframe\">\n",
       "  <thead>\n",
       "    <tr style=\"text-align: right;\">\n",
       "      <th></th>\n",
       "      <th>Store_ID</th>\n",
       "      <th>Date</th>\n",
       "      <th>Dept</th>\n",
       "      <th>Weekly_Sales</th>\n",
       "    </tr>\n",
       "    <tr>\n",
       "      <th>index</th>\n",
       "      <th></th>\n",
       "      <th></th>\n",
       "      <th></th>\n",
       "      <th></th>\n",
       "    </tr>\n",
       "  </thead>\n",
       "  <tbody>\n",
       "    <tr>\n",
       "      <th>0</th>\n",
       "      <td>1</td>\n",
       "      <td>2010-02-05</td>\n",
       "      <td>1</td>\n",
       "      <td>24924.50</td>\n",
       "    </tr>\n",
       "    <tr>\n",
       "      <th>1</th>\n",
       "      <td>1</td>\n",
       "      <td>2010-02-05</td>\n",
       "      <td>26</td>\n",
       "      <td>11737.12</td>\n",
       "    </tr>\n",
       "    <tr>\n",
       "      <th>2</th>\n",
       "      <td>1</td>\n",
       "      <td>2010-02-05</td>\n",
       "      <td>17</td>\n",
       "      <td>13223.76</td>\n",
       "    </tr>\n",
       "    <tr>\n",
       "      <th>3</th>\n",
       "      <td>1</td>\n",
       "      <td>2010-02-05</td>\n",
       "      <td>45</td>\n",
       "      <td>37.44</td>\n",
       "    </tr>\n",
       "    <tr>\n",
       "      <th>4</th>\n",
       "      <td>1</td>\n",
       "      <td>2010-02-05</td>\n",
       "      <td>28</td>\n",
       "      <td>1085.29</td>\n",
       "    </tr>\n",
       "  </tbody>\n",
       "</table>\n",
       "</div>"
      ],
      "text/plain": [
       "       Store_ID        Date  Dept  Weekly_Sales\n",
       "index                                          \n",
       "0             1  2010-02-05     1      24924.50\n",
       "1             1  2010-02-05    26      11737.12\n",
       "2             1  2010-02-05    17      13223.76\n",
       "3             1  2010-02-05    45         37.44\n",
       "4             1  2010-02-05    28       1085.29"
      ]
     },
     "execution_count": 60,
     "metadata": {},
     "output_type": "execute_result"
    }
   ],
   "source": [
    "grocery_sales = pd.read_csv(\"datasets/grocery_sales.csv\", index_col=\"index\")\n",
    "grocery_sales.head()"
   ]
  },
  {
   "cell_type": "code",
   "execution_count": 50,
   "id": "56ef9f4f-eea9-4a82-a2bf-d768d9b05993",
   "metadata": {},
   "outputs": [
    {
     "data": {
      "text/plain": [
       "Store_ID          int64\n",
       "Date             object\n",
       "Dept              int64\n",
       "Weekly_Sales    float64\n",
       "dtype: object"
      ]
     },
     "execution_count": 50,
     "metadata": {},
     "output_type": "execute_result"
    }
   ],
   "source": [
    "grocery_sales.dtypes"
   ]
  },
  {
   "cell_type": "code",
   "execution_count": 51,
   "id": "1ba28307-c45d-4d26-8d26-69f404a8d0c7",
   "metadata": {},
   "outputs": [
    {
     "data": {
      "text/plain": [
       "Store_ID         0\n",
       "Date            39\n",
       "Dept             0\n",
       "Weekly_Sales    38\n",
       "dtype: int64"
      ]
     },
     "execution_count": 51,
     "metadata": {},
     "output_type": "execute_result"
    }
   ],
   "source": [
    "grocery_sales.isna().sum()"
   ]
  },
  {
   "cell_type": "code",
   "execution_count": 61,
   "id": "0a1a7d61-5324-488e-a44a-31e9d01b3eb4",
   "metadata": {},
   "outputs": [
    {
     "data": {
      "text/html": [
       "<div>\n",
       "<style scoped>\n",
       "    .dataframe tbody tr th:only-of-type {\n",
       "        vertical-align: middle;\n",
       "    }\n",
       "\n",
       "    .dataframe tbody tr th {\n",
       "        vertical-align: top;\n",
       "    }\n",
       "\n",
       "    .dataframe thead th {\n",
       "        text-align: right;\n",
       "    }\n",
       "</style>\n",
       "<table border=\"1\" class=\"dataframe\">\n",
       "  <thead>\n",
       "    <tr style=\"text-align: right;\">\n",
       "      <th></th>\n",
       "      <th>IsHoliday</th>\n",
       "      <th>Temperature</th>\n",
       "      <th>Fuel_Price</th>\n",
       "      <th>MarkDown1</th>\n",
       "      <th>MarkDown2</th>\n",
       "      <th>MarkDown3</th>\n",
       "      <th>MarkDown4</th>\n",
       "      <th>MarkDown5</th>\n",
       "      <th>CPI</th>\n",
       "      <th>Unemployment</th>\n",
       "      <th>Type</th>\n",
       "      <th>Size</th>\n",
       "    </tr>\n",
       "    <tr>\n",
       "      <th>index</th>\n",
       "      <th></th>\n",
       "      <th></th>\n",
       "      <th></th>\n",
       "      <th></th>\n",
       "      <th></th>\n",
       "      <th></th>\n",
       "      <th></th>\n",
       "      <th></th>\n",
       "      <th></th>\n",
       "      <th></th>\n",
       "      <th></th>\n",
       "      <th></th>\n",
       "    </tr>\n",
       "  </thead>\n",
       "  <tbody>\n",
       "    <tr>\n",
       "      <th>0</th>\n",
       "      <td>0</td>\n",
       "      <td>42.31</td>\n",
       "      <td>2.572</td>\n",
       "      <td>0.0</td>\n",
       "      <td>0.0</td>\n",
       "      <td>0.0</td>\n",
       "      <td>0.0</td>\n",
       "      <td>0.0</td>\n",
       "      <td>211.096358</td>\n",
       "      <td>8.106</td>\n",
       "      <td>3.0</td>\n",
       "      <td>151315.0</td>\n",
       "    </tr>\n",
       "    <tr>\n",
       "      <th>1</th>\n",
       "      <td>0</td>\n",
       "      <td>42.31</td>\n",
       "      <td>2.572</td>\n",
       "      <td>0.0</td>\n",
       "      <td>0.0</td>\n",
       "      <td>0.0</td>\n",
       "      <td>0.0</td>\n",
       "      <td>0.0</td>\n",
       "      <td>211.096358</td>\n",
       "      <td>8.106</td>\n",
       "      <td>3.0</td>\n",
       "      <td>151315.0</td>\n",
       "    </tr>\n",
       "    <tr>\n",
       "      <th>2</th>\n",
       "      <td>0</td>\n",
       "      <td>42.31</td>\n",
       "      <td>2.572</td>\n",
       "      <td>0.0</td>\n",
       "      <td>0.0</td>\n",
       "      <td>0.0</td>\n",
       "      <td>0.0</td>\n",
       "      <td>0.0</td>\n",
       "      <td>211.096358</td>\n",
       "      <td>8.106</td>\n",
       "      <td>3.0</td>\n",
       "      <td>151315.0</td>\n",
       "    </tr>\n",
       "    <tr>\n",
       "      <th>3</th>\n",
       "      <td>0</td>\n",
       "      <td>42.31</td>\n",
       "      <td>2.572</td>\n",
       "      <td>0.0</td>\n",
       "      <td>0.0</td>\n",
       "      <td>0.0</td>\n",
       "      <td>0.0</td>\n",
       "      <td>0.0</td>\n",
       "      <td>211.096358</td>\n",
       "      <td>NaN</td>\n",
       "      <td>3.0</td>\n",
       "      <td>151315.0</td>\n",
       "    </tr>\n",
       "    <tr>\n",
       "      <th>4</th>\n",
       "      <td>0</td>\n",
       "      <td>42.31</td>\n",
       "      <td>2.572</td>\n",
       "      <td>0.0</td>\n",
       "      <td>0.0</td>\n",
       "      <td>0.0</td>\n",
       "      <td>0.0</td>\n",
       "      <td>0.0</td>\n",
       "      <td>211.096358</td>\n",
       "      <td>NaN</td>\n",
       "      <td>3.0</td>\n",
       "      <td>151315.0</td>\n",
       "    </tr>\n",
       "  </tbody>\n",
       "</table>\n",
       "</div>"
      ],
      "text/plain": [
       "       IsHoliday  Temperature  Fuel_Price  MarkDown1  MarkDown2  MarkDown3  \\\n",
       "index                                                                        \n",
       "0              0        42.31       2.572        0.0        0.0        0.0   \n",
       "1              0        42.31       2.572        0.0        0.0        0.0   \n",
       "2              0        42.31       2.572        0.0        0.0        0.0   \n",
       "3              0        42.31       2.572        0.0        0.0        0.0   \n",
       "4              0        42.31       2.572        0.0        0.0        0.0   \n",
       "\n",
       "       MarkDown4  MarkDown5         CPI  Unemployment  Type      Size  \n",
       "index                                                                  \n",
       "0            0.0        0.0  211.096358         8.106   3.0  151315.0  \n",
       "1            0.0        0.0  211.096358         8.106   3.0  151315.0  \n",
       "2            0.0        0.0  211.096358         8.106   3.0  151315.0  \n",
       "3            0.0        0.0  211.096358           NaN   3.0  151315.0  \n",
       "4            0.0        0.0  211.096358           NaN   3.0  151315.0  "
      ]
     },
     "execution_count": 61,
     "metadata": {},
     "output_type": "execute_result"
    }
   ],
   "source": [
    "extra_data = pd.read_parquet(\"datasets/extra_data.parquet\")\n",
    "extra_data.set_index(\"index\", inplace=True)\n",
    "extra_data.head()"
   ]
  },
  {
   "cell_type": "code",
   "execution_count": 52,
   "id": "aef7b670-ae4e-40ed-958c-c5861540ac54",
   "metadata": {},
   "outputs": [
    {
     "data": {
      "text/plain": [
       "IsHoliday         int64\n",
       "Temperature     float64\n",
       "Fuel_Price      float64\n",
       "MarkDown1       float64\n",
       "MarkDown2       float64\n",
       "MarkDown3       float64\n",
       "MarkDown4       float64\n",
       "MarkDown5       float64\n",
       "CPI             float64\n",
       "Unemployment    float64\n",
       "Type            float64\n",
       "Size            float64\n",
       "dtype: object"
      ]
     },
     "execution_count": 52,
     "metadata": {},
     "output_type": "execute_result"
    }
   ],
   "source": [
    "extra_data.dtypes"
   ]
  },
  {
   "cell_type": "code",
   "execution_count": 53,
   "id": "af541305-7f80-4307-b8d3-caec0ab56d67",
   "metadata": {},
   "outputs": [
    {
     "data": {
      "text/plain": [
       "IsHoliday        0\n",
       "Temperature      0\n",
       "Fuel_Price       0\n",
       "MarkDown1        0\n",
       "MarkDown2        0\n",
       "MarkDown3        0\n",
       "MarkDown4        1\n",
       "MarkDown5        1\n",
       "CPI             47\n",
       "Unemployment    37\n",
       "Type             1\n",
       "Size             1\n",
       "dtype: int64"
      ]
     },
     "execution_count": 53,
     "metadata": {},
     "output_type": "execute_result"
    }
   ],
   "source": [
    "extra_data.isna().sum()"
   ]
  },
  {
   "cell_type": "markdown",
   "id": "d5c5ddad-28c8-4c09-8876-9b9bd1f3bd50",
   "metadata": {},
   "source": [
    "## Data Extraction and Integration"
   ]
  },
  {
   "cell_type": "code",
   "execution_count": 57,
   "id": "aa242e09-bb4e-49b8-b7ec-03cb0b6c6e96",
   "metadata": {
    "executionCancelledAt": null,
    "executionTime": 54,
    "lastExecutedAt": 1712843647464,
    "lastExecutedByKernel": "2ecbf671-bddd-4606-a328-03b1d5a7dde9",
    "lastScheduledRunId": null,
    "lastSuccessfullyExecutedCode": "def extract(df,parq):\n    par_df = pd.read_parquet(parq)\n    merged_df = df.merge(par_df, left_on = 'index', right_on = 'index')\n    return merged_df"
   },
   "outputs": [],
   "source": [
    "def extract(csv_path, par_path):\n",
    "    \n",
    "    csv_df = pd.read_csv(csv_path)\n",
    "    par_df = pd.read_parquet(par_path)\n",
    "    merged_df = csv_df.merge(par_df, left_on=\"index\", right_on=\"index\")\n",
    "    merged_df.set_index(\"index\", inplace=True)\n",
    "    \n",
    "    return merged_df"
   ]
  },
  {
   "cell_type": "code",
   "execution_count": 58,
   "id": "33ce251c-dabc-4616-b0e5-71888d353646",
   "metadata": {
    "executionCancelledAt": null,
    "executionTime": 109,
    "lastExecutedAt": 1712843647573,
    "lastExecutedByKernel": "2ecbf671-bddd-4606-a328-03b1d5a7dde9",
    "lastScheduledRunId": null,
    "lastSuccessfullyExecutedCode": "merged_df = extract(grocery_sales,'extra_data.parquet')\nmerged_df.head()",
    "outputsMetadata": {
     "0": {
      "height": 208,
      "type": "dataFrame"
     }
    }
   },
   "outputs": [
    {
     "data": {
      "text/html": [
       "<div>\n",
       "<style scoped>\n",
       "    .dataframe tbody tr th:only-of-type {\n",
       "        vertical-align: middle;\n",
       "    }\n",
       "\n",
       "    .dataframe tbody tr th {\n",
       "        vertical-align: top;\n",
       "    }\n",
       "\n",
       "    .dataframe thead th {\n",
       "        text-align: right;\n",
       "    }\n",
       "</style>\n",
       "<table border=\"1\" class=\"dataframe\">\n",
       "  <thead>\n",
       "    <tr style=\"text-align: right;\">\n",
       "      <th></th>\n",
       "      <th>Store_ID</th>\n",
       "      <th>Date</th>\n",
       "      <th>Dept</th>\n",
       "      <th>Weekly_Sales</th>\n",
       "      <th>IsHoliday</th>\n",
       "      <th>Temperature</th>\n",
       "      <th>Fuel_Price</th>\n",
       "      <th>MarkDown1</th>\n",
       "      <th>MarkDown2</th>\n",
       "      <th>MarkDown3</th>\n",
       "      <th>MarkDown4</th>\n",
       "      <th>MarkDown5</th>\n",
       "      <th>CPI</th>\n",
       "      <th>Unemployment</th>\n",
       "      <th>Type</th>\n",
       "      <th>Size</th>\n",
       "    </tr>\n",
       "    <tr>\n",
       "      <th>index</th>\n",
       "      <th></th>\n",
       "      <th></th>\n",
       "      <th></th>\n",
       "      <th></th>\n",
       "      <th></th>\n",
       "      <th></th>\n",
       "      <th></th>\n",
       "      <th></th>\n",
       "      <th></th>\n",
       "      <th></th>\n",
       "      <th></th>\n",
       "      <th></th>\n",
       "      <th></th>\n",
       "      <th></th>\n",
       "      <th></th>\n",
       "      <th></th>\n",
       "    </tr>\n",
       "  </thead>\n",
       "  <tbody>\n",
       "    <tr>\n",
       "      <th>0</th>\n",
       "      <td>1</td>\n",
       "      <td>2010-02-05</td>\n",
       "      <td>1</td>\n",
       "      <td>24924.50</td>\n",
       "      <td>0</td>\n",
       "      <td>42.31</td>\n",
       "      <td>2.572</td>\n",
       "      <td>0.0</td>\n",
       "      <td>0.0</td>\n",
       "      <td>0.0</td>\n",
       "      <td>0.0</td>\n",
       "      <td>0.0</td>\n",
       "      <td>211.096358</td>\n",
       "      <td>8.106</td>\n",
       "      <td>3.0</td>\n",
       "      <td>151315.0</td>\n",
       "    </tr>\n",
       "    <tr>\n",
       "      <th>1</th>\n",
       "      <td>1</td>\n",
       "      <td>2010-02-05</td>\n",
       "      <td>26</td>\n",
       "      <td>11737.12</td>\n",
       "      <td>0</td>\n",
       "      <td>42.31</td>\n",
       "      <td>2.572</td>\n",
       "      <td>0.0</td>\n",
       "      <td>0.0</td>\n",
       "      <td>0.0</td>\n",
       "      <td>0.0</td>\n",
       "      <td>0.0</td>\n",
       "      <td>211.096358</td>\n",
       "      <td>8.106</td>\n",
       "      <td>3.0</td>\n",
       "      <td>151315.0</td>\n",
       "    </tr>\n",
       "    <tr>\n",
       "      <th>2</th>\n",
       "      <td>1</td>\n",
       "      <td>2010-02-05</td>\n",
       "      <td>17</td>\n",
       "      <td>13223.76</td>\n",
       "      <td>0</td>\n",
       "      <td>42.31</td>\n",
       "      <td>2.572</td>\n",
       "      <td>0.0</td>\n",
       "      <td>0.0</td>\n",
       "      <td>0.0</td>\n",
       "      <td>0.0</td>\n",
       "      <td>0.0</td>\n",
       "      <td>211.096358</td>\n",
       "      <td>8.106</td>\n",
       "      <td>3.0</td>\n",
       "      <td>151315.0</td>\n",
       "    </tr>\n",
       "    <tr>\n",
       "      <th>3</th>\n",
       "      <td>1</td>\n",
       "      <td>2010-02-05</td>\n",
       "      <td>45</td>\n",
       "      <td>37.44</td>\n",
       "      <td>0</td>\n",
       "      <td>42.31</td>\n",
       "      <td>2.572</td>\n",
       "      <td>0.0</td>\n",
       "      <td>0.0</td>\n",
       "      <td>0.0</td>\n",
       "      <td>0.0</td>\n",
       "      <td>0.0</td>\n",
       "      <td>211.096358</td>\n",
       "      <td>NaN</td>\n",
       "      <td>3.0</td>\n",
       "      <td>151315.0</td>\n",
       "    </tr>\n",
       "    <tr>\n",
       "      <th>4</th>\n",
       "      <td>1</td>\n",
       "      <td>2010-02-05</td>\n",
       "      <td>28</td>\n",
       "      <td>1085.29</td>\n",
       "      <td>0</td>\n",
       "      <td>42.31</td>\n",
       "      <td>2.572</td>\n",
       "      <td>0.0</td>\n",
       "      <td>0.0</td>\n",
       "      <td>0.0</td>\n",
       "      <td>0.0</td>\n",
       "      <td>0.0</td>\n",
       "      <td>211.096358</td>\n",
       "      <td>NaN</td>\n",
       "      <td>3.0</td>\n",
       "      <td>151315.0</td>\n",
       "    </tr>\n",
       "  </tbody>\n",
       "</table>\n",
       "</div>"
      ],
      "text/plain": [
       "       Store_ID        Date  Dept  Weekly_Sales  IsHoliday  Temperature  \\\n",
       "index                                                                     \n",
       "0             1  2010-02-05     1      24924.50          0        42.31   \n",
       "1             1  2010-02-05    26      11737.12          0        42.31   \n",
       "2             1  2010-02-05    17      13223.76          0        42.31   \n",
       "3             1  2010-02-05    45         37.44          0        42.31   \n",
       "4             1  2010-02-05    28       1085.29          0        42.31   \n",
       "\n",
       "       Fuel_Price  MarkDown1  MarkDown2  MarkDown3  MarkDown4  MarkDown5  \\\n",
       "index                                                                      \n",
       "0           2.572        0.0        0.0        0.0        0.0        0.0   \n",
       "1           2.572        0.0        0.0        0.0        0.0        0.0   \n",
       "2           2.572        0.0        0.0        0.0        0.0        0.0   \n",
       "3           2.572        0.0        0.0        0.0        0.0        0.0   \n",
       "4           2.572        0.0        0.0        0.0        0.0        0.0   \n",
       "\n",
       "              CPI  Unemployment  Type      Size  \n",
       "index                                            \n",
       "0      211.096358         8.106   3.0  151315.0  \n",
       "1      211.096358         8.106   3.0  151315.0  \n",
       "2      211.096358         8.106   3.0  151315.0  \n",
       "3      211.096358           NaN   3.0  151315.0  \n",
       "4      211.096358           NaN   3.0  151315.0  "
      ]
     },
     "execution_count": 58,
     "metadata": {},
     "output_type": "execute_result"
    }
   ],
   "source": [
    "merged_df = extract(\"datasets/grocery_sales.csv\", \"datasets/extra_data.parquet\")\n",
    "merged_df.head()"
   ]
  },
  {
   "cell_type": "markdown",
   "id": "aab43575-0fcb-43b5-a026-fffacebb5ca6",
   "metadata": {},
   "source": [
    "## Data Transformation"
   ]
  },
  {
   "cell_type": "code",
   "execution_count": 54,
   "id": "be719ef6-535d-4c46-968b-df54ed202c5f",
   "metadata": {
    "executionCancelledAt": null,
    "executionTime": 52,
    "lastExecutedAt": 1712843647678,
    "lastExecutedByKernel": "2ecbf671-bddd-4606-a328-03b1d5a7dde9",
    "lastScheduledRunId": null,
    "lastSuccessfullyExecutedCode": "def transform(df):\n    df.fillna({\n        'Weekly_Sales':df['Weekly_Sales'].mean(),\n        'MarkDown4':df['MarkDown4'].mode(),\n        'MarkDown5':df['MarkDown5'].mode(),\n        'CPI':df['CPI'].mean(),\n        'Unemployment':df['Unemployment'].mean(),\n        'Type':df['Type'].mode(),\n        'Size':df['Size'].mode(),\n    }, inplace= True)\n    df.fillna(method = 'ffill', inplace=True)\n    \n    df['Month'] = df['Date'].dt.month\n    \n    df = df[df['Weekly_Sales'] > 10000]\n    \n    df = df[[\"Store_ID\",\"Month\",\"Dept\",\"IsHoliday\",\"Weekly_Sales\",\"CPI\",\"Unemployment\"]]\n\n    return df"
   },
   "outputs": [],
   "source": [
    "def transform(df):\n",
    "    \n",
    "    df.fillna({\n",
    "        'Weekly_Sales':df['Weekly_Sales'].mean(),\n",
    "        'CPI':df['CPI'].mean(),\n",
    "        'Unemployment':df['Unemployment'].mean(),\n",
    "        'MarkDown4':df['MarkDown4'].mode(),\n",
    "        'MarkDown5':df['MarkDown5'].mode(),\n",
    "        'Type':df['Type'].mode(),\n",
    "        'Size':df['Size'].mode(),\n",
    "    }, inplace= True)\n",
    "    df.fillna(method = 'ffill', inplace=True)\n",
    "\n",
    "    df['Month'] = pd.to_datetime(df['Date'], yearfirst=True).dt.month\n",
    "    \n",
    "    df = df[df['Weekly_Sales'] > 10000]\n",
    "    \n",
    "    df = df[[\"Store_ID\",\"Month\",\"Dept\",\"IsHoliday\",\"Weekly_Sales\",\"CPI\",\"Unemployment\"]]\n",
    "\n",
    "    return df"
   ]
  },
  {
   "cell_type": "code",
   "execution_count": 55,
   "id": "126b7db1-6775-4893-b8ae-bfc6d6fe6201",
   "metadata": {
    "executionCancelledAt": null,
    "executionTime": 69,
    "lastExecutedAt": 1712843647747,
    "lastExecutedByKernel": "2ecbf671-bddd-4606-a328-03b1d5a7dde9",
    "lastScheduledRunId": null,
    "lastSuccessfullyExecutedCode": "clean_data = transform(merged_df)\nclean_data.head()",
    "outputsMetadata": {
     "0": {
      "height": 194,
      "type": "dataFrame"
     }
    }
   },
   "outputs": [
    {
     "data": {
      "text/html": [
       "<div>\n",
       "<style scoped>\n",
       "    .dataframe tbody tr th:only-of-type {\n",
       "        vertical-align: middle;\n",
       "    }\n",
       "\n",
       "    .dataframe tbody tr th {\n",
       "        vertical-align: top;\n",
       "    }\n",
       "\n",
       "    .dataframe thead th {\n",
       "        text-align: right;\n",
       "    }\n",
       "</style>\n",
       "<table border=\"1\" class=\"dataframe\">\n",
       "  <thead>\n",
       "    <tr style=\"text-align: right;\">\n",
       "      <th></th>\n",
       "      <th>Store_ID</th>\n",
       "      <th>Month</th>\n",
       "      <th>Dept</th>\n",
       "      <th>IsHoliday</th>\n",
       "      <th>Weekly_Sales</th>\n",
       "      <th>CPI</th>\n",
       "      <th>Unemployment</th>\n",
       "    </tr>\n",
       "    <tr>\n",
       "      <th>index</th>\n",
       "      <th></th>\n",
       "      <th></th>\n",
       "      <th></th>\n",
       "      <th></th>\n",
       "      <th></th>\n",
       "      <th></th>\n",
       "      <th></th>\n",
       "    </tr>\n",
       "  </thead>\n",
       "  <tbody>\n",
       "    <tr>\n",
       "      <th>0</th>\n",
       "      <td>1</td>\n",
       "      <td>2</td>\n",
       "      <td>1</td>\n",
       "      <td>0</td>\n",
       "      <td>24924.50</td>\n",
       "      <td>211.096358</td>\n",
       "      <td>8.106000</td>\n",
       "    </tr>\n",
       "    <tr>\n",
       "      <th>1</th>\n",
       "      <td>1</td>\n",
       "      <td>2</td>\n",
       "      <td>26</td>\n",
       "      <td>0</td>\n",
       "      <td>11737.12</td>\n",
       "      <td>211.096358</td>\n",
       "      <td>8.106000</td>\n",
       "    </tr>\n",
       "    <tr>\n",
       "      <th>2</th>\n",
       "      <td>1</td>\n",
       "      <td>2</td>\n",
       "      <td>17</td>\n",
       "      <td>0</td>\n",
       "      <td>13223.76</td>\n",
       "      <td>211.096358</td>\n",
       "      <td>8.106000</td>\n",
       "    </tr>\n",
       "    <tr>\n",
       "      <th>5</th>\n",
       "      <td>1</td>\n",
       "      <td>2</td>\n",
       "      <td>79</td>\n",
       "      <td>0</td>\n",
       "      <td>46729.77</td>\n",
       "      <td>211.096358</td>\n",
       "      <td>7.500052</td>\n",
       "    </tr>\n",
       "    <tr>\n",
       "      <th>6</th>\n",
       "      <td>1</td>\n",
       "      <td>2</td>\n",
       "      <td>55</td>\n",
       "      <td>0</td>\n",
       "      <td>21249.31</td>\n",
       "      <td>211.096358</td>\n",
       "      <td>7.500052</td>\n",
       "    </tr>\n",
       "  </tbody>\n",
       "</table>\n",
       "</div>"
      ],
      "text/plain": [
       "       Store_ID  Month  Dept  IsHoliday  Weekly_Sales         CPI  \\\n",
       "index                                                               \n",
       "0             1      2     1          0      24924.50  211.096358   \n",
       "1             1      2    26          0      11737.12  211.096358   \n",
       "2             1      2    17          0      13223.76  211.096358   \n",
       "5             1      2    79          0      46729.77  211.096358   \n",
       "6             1      2    55          0      21249.31  211.096358   \n",
       "\n",
       "       Unemployment  \n",
       "index                \n",
       "0          8.106000  \n",
       "1          8.106000  \n",
       "2          8.106000  \n",
       "5          7.500052  \n",
       "6          7.500052  "
      ]
     },
     "execution_count": 55,
     "metadata": {},
     "output_type": "execute_result"
    }
   ],
   "source": [
    "clean_data = transform(merged_df)\n",
    "clean_data.head()"
   ]
  },
  {
   "cell_type": "code",
   "execution_count": 26,
   "id": "b63dd9e2-3daa-4c9e-8297-91a2089d5db7",
   "metadata": {
    "executionCancelledAt": null,
    "executionTime": 52,
    "lastExecutedAt": 1712843647854,
    "lastExecutedByKernel": "2ecbf671-bddd-4606-a328-03b1d5a7dde9",
    "lastScheduledRunId": null,
    "lastSuccessfullyExecutedCode": "def avg_monthly_sales(df):\n    df = pd.DataFrame(data = df.groupby('Month').Weekly_Sales.agg('mean'))\n    df.reset_index(inplace=True)\n    df.columns = ['Month','Avg_Sales']\n    df['Avg_Sales'] = df['Avg_Sales'].round(decimals = 2)\n    return df"
   },
   "outputs": [],
   "source": [
    "def avg_monthly_sales(df):\n",
    "    df = pd.DataFrame(data=df.groupby(\"Month\").Weekly_Sales.agg(\"mean\"))\n",
    "    df.reset_index(inplace=True)\n",
    "    df.columns = [\"Month\", \"Avg_Sales\"]\n",
    "    df[\"Avg_Sales\"] = df[\"Avg_Sales\"].round(decimals=2)\n",
    "    return df"
   ]
  },
  {
   "cell_type": "code",
   "execution_count": 28,
   "id": "d5d44d26-0a42-40fd-a024-c5627e353b6e",
   "metadata": {
    "executionCancelledAt": null,
    "executionTime": 48,
    "lastExecutedAt": 1712843647902,
    "lastExecutedByKernel": "2ecbf671-bddd-4606-a328-03b1d5a7dde9",
    "lastScheduledRunId": null,
    "lastSuccessfullyExecutedCode": "agg_data = avg_monthly_sales(clean_df)\nagg_data.head(13)",
    "outputsMetadata": {
     "0": {
      "height": 318,
      "type": "dataFrame"
     },
     "1": {
      "height": 196,
      "type": "dataFrame"
     }
    }
   },
   "outputs": [
    {
     "data": {
      "text/html": [
       "<div>\n",
       "<style scoped>\n",
       "    .dataframe tbody tr th:only-of-type {\n",
       "        vertical-align: middle;\n",
       "    }\n",
       "\n",
       "    .dataframe tbody tr th {\n",
       "        vertical-align: top;\n",
       "    }\n",
       "\n",
       "    .dataframe thead th {\n",
       "        text-align: right;\n",
       "    }\n",
       "</style>\n",
       "<table border=\"1\" class=\"dataframe\">\n",
       "  <thead>\n",
       "    <tr style=\"text-align: right;\">\n",
       "      <th></th>\n",
       "      <th>Month</th>\n",
       "      <th>Avg_Sales</th>\n",
       "    </tr>\n",
       "  </thead>\n",
       "  <tbody>\n",
       "    <tr>\n",
       "      <th>0</th>\n",
       "      <td>1</td>\n",
       "      <td>33174.18</td>\n",
       "    </tr>\n",
       "    <tr>\n",
       "      <th>1</th>\n",
       "      <td>2</td>\n",
       "      <td>34331.35</td>\n",
       "    </tr>\n",
       "    <tr>\n",
       "      <th>2</th>\n",
       "      <td>3</td>\n",
       "      <td>33220.89</td>\n",
       "    </tr>\n",
       "    <tr>\n",
       "      <th>3</th>\n",
       "      <td>4</td>\n",
       "      <td>33390.86</td>\n",
       "    </tr>\n",
       "    <tr>\n",
       "      <th>4</th>\n",
       "      <td>5</td>\n",
       "      <td>33339.89</td>\n",
       "    </tr>\n",
       "    <tr>\n",
       "      <th>5</th>\n",
       "      <td>6</td>\n",
       "      <td>34582.47</td>\n",
       "    </tr>\n",
       "    <tr>\n",
       "      <th>6</th>\n",
       "      <td>7</td>\n",
       "      <td>33922.76</td>\n",
       "    </tr>\n",
       "    <tr>\n",
       "      <th>7</th>\n",
       "      <td>8</td>\n",
       "      <td>33644.79</td>\n",
       "    </tr>\n",
       "    <tr>\n",
       "      <th>8</th>\n",
       "      <td>9</td>\n",
       "      <td>33258.05</td>\n",
       "    </tr>\n",
       "    <tr>\n",
       "      <th>9</th>\n",
       "      <td>10</td>\n",
       "      <td>32731.06</td>\n",
       "    </tr>\n",
       "    <tr>\n",
       "      <th>10</th>\n",
       "      <td>11</td>\n",
       "      <td>36594.03</td>\n",
       "    </tr>\n",
       "    <tr>\n",
       "      <th>11</th>\n",
       "      <td>12</td>\n",
       "      <td>39238.80</td>\n",
       "    </tr>\n",
       "  </tbody>\n",
       "</table>\n",
       "</div>"
      ],
      "text/plain": [
       "    Month  Avg_Sales\n",
       "0       1   33174.18\n",
       "1       2   34331.35\n",
       "2       3   33220.89\n",
       "3       4   33390.86\n",
       "4       5   33339.89\n",
       "5       6   34582.47\n",
       "6       7   33922.76\n",
       "7       8   33644.79\n",
       "8       9   33258.05\n",
       "9      10   32731.06\n",
       "10     11   36594.03\n",
       "11     12   39238.80"
      ]
     },
     "execution_count": 28,
     "metadata": {},
     "output_type": "execute_result"
    }
   ],
   "source": [
    "agg_data = avg_monthly_sales(clean_data)\n",
    "agg_data.head(13)"
   ]
  },
  {
   "cell_type": "code",
   "execution_count": 29,
   "id": "c201a598-818c-4793-bc1f-8baea159583b",
   "metadata": {
    "executionCancelledAt": null,
    "executionTime": 48,
    "lastExecutedAt": 1712843647950,
    "lastExecutedByKernel": "2ecbf671-bddd-4606-a328-03b1d5a7dde9",
    "lastScheduledRunId": null,
    "lastSuccessfullyExecutedCode": "def load(df1,df2,path1,path2):\n    df1.to_csv(path1, index=False)\n    df2.to_csv(path2, index=False)"
   },
   "outputs": [],
   "source": [
    "def load(df1, df2, path1, path2):\n",
    "    df1.to_csv(path1, index=False)\n",
    "    df2.to_csv(path2, index=False)"
   ]
  },
  {
   "cell_type": "code",
   "execution_count": 30,
   "id": "4892d2e0-b352-4a6f-9b4a-69e43a9a91ed",
   "metadata": {
    "executionCancelledAt": null,
    "executionTime": 382,
    "lastExecutedAt": 1712843648332,
    "lastExecutedByKernel": "2ecbf671-bddd-4606-a328-03b1d5a7dde9",
    "lastScheduledRunId": null,
    "lastSuccessfullyExecutedCode": "load(clean_data,agg_data,'clean_data.csv','agg_data.csv')"
   },
   "outputs": [],
   "source": [
    "load(clean_data, agg_data, \"clean_data.csv\", \"agg_data.csv\")"
   ]
  },
  {
   "cell_type": "code",
   "execution_count": 31,
   "id": "bf6652a9-159f-4324-be42-fec9fa696e6c",
   "metadata": {
    "executionCancelledAt": null,
    "executionTime": 48,
    "lastExecutedAt": 1712843648382,
    "lastExecutedByKernel": "2ecbf671-bddd-4606-a328-03b1d5a7dde9",
    "lastScheduledRunId": null,
    "lastSuccessfullyExecutedCode": "def validation(path1):\n    if os.path.exists(path1) == 0:\n        raise Exception('Path 1 does not exists.')\n"
   },
   "outputs": [],
   "source": [
    "def validation(path1, path2):\n",
    "    if os.path.exists(path1) == 0:\n",
    "        raise Exception(\"Path 1 does not exists.\")\n",
    "    if os.path.exists(path2) == 0:\n",
    "        raise Exception(\"Path 2 does not exists.\")"
   ]
  },
  {
   "cell_type": "code",
   "execution_count": 39,
   "id": "0bd276ad-bb6a-431e-9960-a2755db4b479",
   "metadata": {
    "executionCancelledAt": null,
    "executionTime": 50,
    "lastExecutedAt": 1712843648432,
    "lastExecutedByKernel": "2ecbf671-bddd-4606-a328-03b1d5a7dde9",
    "lastScheduledRunId": null,
    "lastSuccessfullyExecutedCode": "validation('clean_data.csv')"
   },
   "outputs": [
    {
     "ename": "Exception",
     "evalue": "Path 1 does not exists.",
     "output_type": "error",
     "traceback": [
      "\u001b[1;31m---------------------------------------------------------------------------\u001b[0m",
      "\u001b[1;31mException\u001b[0m                                 Traceback (most recent call last)",
      "Cell \u001b[1;32mIn[39], line 1\u001b[0m\n\u001b[1;32m----> 1\u001b[0m \u001b[43mvalidation\u001b[49m\u001b[43m(\u001b[49m\u001b[38;5;124;43m'\u001b[39;49m\u001b[38;5;124;43mclean_data.csv\u001b[39;49m\u001b[38;5;124;43m'\u001b[39;49m\u001b[43m,\u001b[49m\u001b[38;5;124;43m'\u001b[39;49m\u001b[38;5;124;43magg_data.csv\u001b[39;49m\u001b[38;5;124;43m'\u001b[39;49m\u001b[43m)\u001b[49m\n",
      "Cell \u001b[1;32mIn[31], line 3\u001b[0m, in \u001b[0;36mvalidation\u001b[1;34m(path1, path2)\u001b[0m\n\u001b[0;32m      1\u001b[0m \u001b[38;5;28;01mdef\u001b[39;00m \u001b[38;5;21mvalidation\u001b[39m(path1,path2):\n\u001b[0;32m      2\u001b[0m     \u001b[38;5;28;01mif\u001b[39;00m os\u001b[38;5;241m.\u001b[39mpath\u001b[38;5;241m.\u001b[39mexists(path1) \u001b[38;5;241m==\u001b[39m \u001b[38;5;241m0\u001b[39m:\n\u001b[1;32m----> 3\u001b[0m         \u001b[38;5;28;01mraise\u001b[39;00m \u001b[38;5;167;01mException\u001b[39;00m(\u001b[38;5;124m'\u001b[39m\u001b[38;5;124mPath 1 does not exists.\u001b[39m\u001b[38;5;124m'\u001b[39m)\n\u001b[0;32m      4\u001b[0m     \u001b[38;5;28;01mif\u001b[39;00m os\u001b[38;5;241m.\u001b[39mpath\u001b[38;5;241m.\u001b[39mexists(path2) \u001b[38;5;241m==\u001b[39m \u001b[38;5;241m0\u001b[39m:\n\u001b[0;32m      5\u001b[0m         \u001b[38;5;28;01mraise\u001b[39;00m \u001b[38;5;167;01mException\u001b[39;00m(\u001b[38;5;124m'\u001b[39m\u001b[38;5;124mPath 2 does not exists.\u001b[39m\u001b[38;5;124m'\u001b[39m)\n",
      "\u001b[1;31mException\u001b[0m: Path 1 does not exists."
     ]
    }
   ],
   "source": [
    "validation(\"clean_data.csv\", \"agg_data.csv\")"
   ]
  },
  {
   "cell_type": "code",
   "execution_count": 38,
   "id": "25a9fe4c-fdd8-4efe-89dd-329a5f8f3d42",
   "metadata": {},
   "outputs": [],
   "source": [
    "os.remove(\"agg_data.csv\")\n",
    "os.remove(\"clean_data.csv\")"
   ]
  }
 ],
 "metadata": {
  "colab": {
   "name": "Welcome to DataCamp Workspaces.ipynb",
   "provenance": []
  },
  "kernelspec": {
   "display_name": "Python 3 (ipykernel)",
   "language": "python",
   "name": "python3"
  },
  "language_info": {
   "codemirror_mode": {
    "name": "ipython",
    "version": 3
   },
   "file_extension": ".py",
   "mimetype": "text/x-python",
   "name": "python",
   "nbconvert_exporter": "python",
   "pygments_lexer": "ipython3",
   "version": "3.11.4"
  }
 },
 "nbformat": 4,
 "nbformat_minor": 5
}
