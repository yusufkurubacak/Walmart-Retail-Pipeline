{
 "cells": [
  {
   "cell_type": "markdown",
   "id": "049e5d25-c8d3-41cf-9f04-e1cb097a564d",
   "metadata": {},
   "source": [
    "## Importing Libraries"
   ]
  },
  {
   "cell_type": "code",
   "execution_count": 1,
   "id": "c0d64ff1-a4ca-4a82-a8b4-e210244dedc1",
   "metadata": {
    "executionCancelledAt": null,
    "executionTime": 47,
    "lastExecutedAt": 1712843647306,
    "lastExecutedByKernel": "2ecbf671-bddd-4606-a328-03b1d5a7dde9",
    "lastScheduledRunId": null,
    "lastSuccessfullyExecutedCode": "import pandas as pd\nimport os"
   },
   "outputs": [],
   "source": [
    "import pandas as pd\n",
    "import os"
   ]
  },
  {
   "cell_type": "code",
   "execution_count": 2,
   "id": "1aaa3a54-6738-4e28-a879-d882e77f4f06",
   "metadata": {
    "executionCancelledAt": null,
    "executionTime": 52,
    "lastExecutedAt": 1712843647358,
    "lastExecutedByKernel": "2ecbf671-bddd-4606-a328-03b1d5a7dde9",
    "lastScheduledRunId": null,
    "lastSuccessfullyExecutedCode": "par = pd.read_parquet('extra_data.parquet')\npar.head()",
    "outputsMetadata": {
     "0": {
      "height": 208,
      "type": "dataFrame"
     }
    }
   },
   "outputs": [
    {
     "data": {
      "text/html": [
       "<div>\n",
       "<style scoped>\n",
       "    .dataframe tbody tr th:only-of-type {\n",
       "        vertical-align: middle;\n",
       "    }\n",
       "\n",
       "    .dataframe tbody tr th {\n",
       "        vertical-align: top;\n",
       "    }\n",
       "\n",
       "    .dataframe thead th {\n",
       "        text-align: right;\n",
       "    }\n",
       "</style>\n",
       "<table border=\"1\" class=\"dataframe\">\n",
       "  <thead>\n",
       "    <tr style=\"text-align: right;\">\n",
       "      <th></th>\n",
       "      <th>index</th>\n",
       "      <th>IsHoliday</th>\n",
       "      <th>Temperature</th>\n",
       "      <th>Fuel_Price</th>\n",
       "      <th>MarkDown1</th>\n",
       "      <th>MarkDown2</th>\n",
       "      <th>MarkDown3</th>\n",
       "      <th>MarkDown4</th>\n",
       "      <th>MarkDown5</th>\n",
       "      <th>CPI</th>\n",
       "      <th>Unemployment</th>\n",
       "      <th>Type</th>\n",
       "      <th>Size</th>\n",
       "    </tr>\n",
       "  </thead>\n",
       "  <tbody>\n",
       "    <tr>\n",
       "      <th>0</th>\n",
       "      <td>0</td>\n",
       "      <td>0</td>\n",
       "      <td>42.31</td>\n",
       "      <td>2.572</td>\n",
       "      <td>0.0</td>\n",
       "      <td>0.0</td>\n",
       "      <td>0.0</td>\n",
       "      <td>0.0</td>\n",
       "      <td>0.0</td>\n",
       "      <td>211.096358</td>\n",
       "      <td>8.106</td>\n",
       "      <td>3.0</td>\n",
       "      <td>151315.0</td>\n",
       "    </tr>\n",
       "    <tr>\n",
       "      <th>1</th>\n",
       "      <td>1</td>\n",
       "      <td>0</td>\n",
       "      <td>42.31</td>\n",
       "      <td>2.572</td>\n",
       "      <td>0.0</td>\n",
       "      <td>0.0</td>\n",
       "      <td>0.0</td>\n",
       "      <td>0.0</td>\n",
       "      <td>0.0</td>\n",
       "      <td>211.096358</td>\n",
       "      <td>8.106</td>\n",
       "      <td>3.0</td>\n",
       "      <td>151315.0</td>\n",
       "    </tr>\n",
       "    <tr>\n",
       "      <th>2</th>\n",
       "      <td>2</td>\n",
       "      <td>0</td>\n",
       "      <td>42.31</td>\n",
       "      <td>2.572</td>\n",
       "      <td>0.0</td>\n",
       "      <td>0.0</td>\n",
       "      <td>0.0</td>\n",
       "      <td>0.0</td>\n",
       "      <td>0.0</td>\n",
       "      <td>211.096358</td>\n",
       "      <td>8.106</td>\n",
       "      <td>3.0</td>\n",
       "      <td>151315.0</td>\n",
       "    </tr>\n",
       "    <tr>\n",
       "      <th>3</th>\n",
       "      <td>3</td>\n",
       "      <td>0</td>\n",
       "      <td>42.31</td>\n",
       "      <td>2.572</td>\n",
       "      <td>0.0</td>\n",
       "      <td>0.0</td>\n",
       "      <td>0.0</td>\n",
       "      <td>0.0</td>\n",
       "      <td>0.0</td>\n",
       "      <td>211.096358</td>\n",
       "      <td>NaN</td>\n",
       "      <td>3.0</td>\n",
       "      <td>151315.0</td>\n",
       "    </tr>\n",
       "    <tr>\n",
       "      <th>4</th>\n",
       "      <td>4</td>\n",
       "      <td>0</td>\n",
       "      <td>42.31</td>\n",
       "      <td>2.572</td>\n",
       "      <td>0.0</td>\n",
       "      <td>0.0</td>\n",
       "      <td>0.0</td>\n",
       "      <td>0.0</td>\n",
       "      <td>0.0</td>\n",
       "      <td>211.096358</td>\n",
       "      <td>NaN</td>\n",
       "      <td>3.0</td>\n",
       "      <td>151315.0</td>\n",
       "    </tr>\n",
       "  </tbody>\n",
       "</table>\n",
       "</div>"
      ],
      "text/plain": [
       "   index  IsHoliday  Temperature  Fuel_Price  MarkDown1  MarkDown2  MarkDown3  \\\n",
       "0      0          0        42.31       2.572        0.0        0.0        0.0   \n",
       "1      1          0        42.31       2.572        0.0        0.0        0.0   \n",
       "2      2          0        42.31       2.572        0.0        0.0        0.0   \n",
       "3      3          0        42.31       2.572        0.0        0.0        0.0   \n",
       "4      4          0        42.31       2.572        0.0        0.0        0.0   \n",
       "\n",
       "   MarkDown4  MarkDown5         CPI  Unemployment  Type      Size  \n",
       "0        0.0        0.0  211.096358         8.106   3.0  151315.0  \n",
       "1        0.0        0.0  211.096358         8.106   3.0  151315.0  \n",
       "2        0.0        0.0  211.096358         8.106   3.0  151315.0  \n",
       "3        0.0        0.0  211.096358           NaN   3.0  151315.0  \n",
       "4        0.0        0.0  211.096358           NaN   3.0  151315.0  "
      ]
     },
     "execution_count": 2,
     "metadata": {},
     "output_type": "execute_result"
    }
   ],
   "source": [
    "par = pd.read_parquet('extra_data.parquet')\n",
    "par.head()"
   ]
  },
  {
   "cell_type": "code",
   "execution_count": 3,
   "id": "471f2cc7-46eb-4ece-acd8-3846d9257a3b",
   "metadata": {
    "executionCancelledAt": null,
    "executionTime": 52,
    "lastExecutedAt": 1712843647410,
    "lastExecutedByKernel": "2ecbf671-bddd-4606-a328-03b1d5a7dde9",
    "lastScheduledRunId": null,
    "lastSuccessfullyExecutedCode": "grocery_sales.head()",
    "outputsMetadata": {
     "0": {
      "height": 194,
      "type": "dataFrame"
     }
    }
   },
   "outputs": [
    {
     "data": {
      "text/html": [
       "<div>\n",
       "<style scoped>\n",
       "    .dataframe tbody tr th:only-of-type {\n",
       "        vertical-align: middle;\n",
       "    }\n",
       "\n",
       "    .dataframe tbody tr th {\n",
       "        vertical-align: top;\n",
       "    }\n",
       "\n",
       "    .dataframe thead th {\n",
       "        text-align: right;\n",
       "    }\n",
       "</style>\n",
       "<table border=\"1\" class=\"dataframe\">\n",
       "  <thead>\n",
       "    <tr style=\"text-align: right;\">\n",
       "      <th></th>\n",
       "      <th>index</th>\n",
       "      <th>Store_ID</th>\n",
       "      <th>Date</th>\n",
       "      <th>Dept</th>\n",
       "      <th>Weekly_Sales</th>\n",
       "    </tr>\n",
       "  </thead>\n",
       "  <tbody>\n",
       "    <tr>\n",
       "      <th>0</th>\n",
       "      <td>0</td>\n",
       "      <td>1</td>\n",
       "      <td>2010-02-05</td>\n",
       "      <td>1</td>\n",
       "      <td>24924.50</td>\n",
       "    </tr>\n",
       "    <tr>\n",
       "      <th>1</th>\n",
       "      <td>1</td>\n",
       "      <td>1</td>\n",
       "      <td>2010-02-05</td>\n",
       "      <td>26</td>\n",
       "      <td>11737.12</td>\n",
       "    </tr>\n",
       "    <tr>\n",
       "      <th>2</th>\n",
       "      <td>2</td>\n",
       "      <td>1</td>\n",
       "      <td>2010-02-05</td>\n",
       "      <td>17</td>\n",
       "      <td>13223.76</td>\n",
       "    </tr>\n",
       "    <tr>\n",
       "      <th>3</th>\n",
       "      <td>3</td>\n",
       "      <td>1</td>\n",
       "      <td>2010-02-05</td>\n",
       "      <td>45</td>\n",
       "      <td>37.44</td>\n",
       "    </tr>\n",
       "    <tr>\n",
       "      <th>4</th>\n",
       "      <td>4</td>\n",
       "      <td>1</td>\n",
       "      <td>2010-02-05</td>\n",
       "      <td>28</td>\n",
       "      <td>1085.29</td>\n",
       "    </tr>\n",
       "  </tbody>\n",
       "</table>\n",
       "</div>"
      ],
      "text/plain": [
       "   index  Store_ID        Date  Dept  Weekly_Sales\n",
       "0      0         1  2010-02-05     1      24924.50\n",
       "1      1         1  2010-02-05    26      11737.12\n",
       "2      2         1  2010-02-05    17      13223.76\n",
       "3      3         1  2010-02-05    45         37.44\n",
       "4      4         1  2010-02-05    28       1085.29"
      ]
     },
     "execution_count": 3,
     "metadata": {},
     "output_type": "execute_result"
    }
   ],
   "source": [
    "grocery_sales = pd.read_csv('grocery_sales.csv')\n",
    "grocery_sales.head()"
   ]
  },
  {
   "cell_type": "code",
   "execution_count": 151,
   "id": "aa242e09-bb4e-49b8-b7ec-03cb0b6c6e96",
   "metadata": {
    "executionCancelledAt": null,
    "executionTime": 54,
    "lastExecutedAt": 1712843647464,
    "lastExecutedByKernel": "2ecbf671-bddd-4606-a328-03b1d5a7dde9",
    "lastScheduledRunId": null,
    "lastSuccessfullyExecutedCode": "def extract(df,parq):\n    par_df = pd.read_parquet(parq)\n    merged_df = df.merge(par_df, left_on = 'index', right_on = 'index')\n    return merged_df"
   },
   "outputs": [],
   "source": [
    "def extract(df,parq):\n",
    "    par_df = pd.read_parquet(parq)\n",
    "    merged_df = df.merge(par_df, left_on = 'index', right_on = 'index')\n",
    "    return merged_df"
   ]
  },
  {
   "cell_type": "code",
   "execution_count": 152,
   "id": "33ce251c-dabc-4616-b0e5-71888d353646",
   "metadata": {
    "executionCancelledAt": null,
    "executionTime": 109,
    "lastExecutedAt": 1712843647573,
    "lastExecutedByKernel": "2ecbf671-bddd-4606-a328-03b1d5a7dde9",
    "lastScheduledRunId": null,
    "lastSuccessfullyExecutedCode": "merged_df = extract(grocery_sales,'extra_data.parquet')\nmerged_df.head()",
    "outputsMetadata": {
     "0": {
      "height": 208,
      "type": "dataFrame"
     }
    }
   },
   "outputs": [
    {
     "data": {
      "application/com.datacamp.data-table.v2+json": {
       "table": {
        "data": {
         "CPI": [
          211.0963582,
          211.0963582,
          211.0963582,
          211.0963582,
          211.0963582
         ],
         "Date": [
          "2010-02-05T00:00:00.000",
          "2010-02-05T00:00:00.000",
          "2010-02-05T00:00:00.000",
          "2010-02-05T00:00:00.000",
          "2010-02-05T00:00:00.000"
         ],
         "Dept": [
          1,
          26,
          17,
          45,
          28
         ],
         "Fuel_Price": [
          2.572,
          2.572,
          2.572,
          2.572,
          2.572
         ],
         "IsHoliday": [
          0,
          0,
          0,
          0,
          0
         ],
         "MarkDown1": [
          0,
          0,
          0,
          0,
          0
         ],
         "MarkDown2": [
          0,
          0,
          0,
          0,
          0
         ],
         "MarkDown3": [
          0,
          0,
          0,
          0,
          0
         ],
         "MarkDown4": [
          0,
          0,
          0,
          0,
          0
         ],
         "MarkDown5": [
          0,
          0,
          0,
          0,
          0
         ],
         "Size": [
          151315,
          151315,
          151315,
          151315,
          151315
         ],
         "Store_ID": [
          1,
          1,
          1,
          1,
          1
         ],
         "Temperature": [
          42.31,
          42.31,
          42.31,
          42.31,
          42.31
         ],
         "Type": [
          3,
          3,
          3,
          3,
          3
         ],
         "Unemployment": [
          8.106,
          8.106,
          8.106,
          null,
          null
         ],
         "Weekly_Sales": [
          24924.5,
          11737.12,
          13223.76,
          37.44,
          1085.29
         ],
         "index": [
          0,
          1,
          2,
          3,
          4
         ],
         "level_0": [
          0,
          1,
          2,
          3,
          4
         ]
        },
        "schema": {
         "fields": [
          {
           "name": "level_0",
           "type": "integer"
          },
          {
           "name": "index",
           "type": "integer"
          },
          {
           "name": "Store_ID",
           "type": "integer"
          },
          {
           "name": "Date",
           "type": "datetime"
          },
          {
           "name": "Dept",
           "type": "integer"
          },
          {
           "name": "Weekly_Sales",
           "type": "number"
          },
          {
           "name": "IsHoliday",
           "type": "integer"
          },
          {
           "name": "Temperature",
           "type": "number"
          },
          {
           "name": "Fuel_Price",
           "type": "number"
          },
          {
           "name": "MarkDown1",
           "type": "number"
          },
          {
           "name": "MarkDown2",
           "type": "number"
          },
          {
           "name": "MarkDown3",
           "type": "number"
          },
          {
           "name": "MarkDown4",
           "type": "number"
          },
          {
           "name": "MarkDown5",
           "type": "number"
          },
          {
           "name": "CPI",
           "type": "number"
          },
          {
           "name": "Unemployment",
           "type": "number"
          },
          {
           "name": "Type",
           "type": "number"
          },
          {
           "name": "Size",
           "type": "number"
          }
         ],
         "pandas_version": "1.4.0",
         "primaryKey": [
          "level_0"
         ]
        }
       },
       "total_rows": 5,
       "truncation_type": null
      },
      "text/html": [
       "<div>\n",
       "<style scoped>\n",
       "    .dataframe tbody tr th:only-of-type {\n",
       "        vertical-align: middle;\n",
       "    }\n",
       "\n",
       "    .dataframe tbody tr th {\n",
       "        vertical-align: top;\n",
       "    }\n",
       "\n",
       "    .dataframe thead th {\n",
       "        text-align: right;\n",
       "    }\n",
       "</style>\n",
       "<table border=\"1\" class=\"dataframe\">\n",
       "  <thead>\n",
       "    <tr style=\"text-align: right;\">\n",
       "      <th></th>\n",
       "      <th>index</th>\n",
       "      <th>Store_ID</th>\n",
       "      <th>Date</th>\n",
       "      <th>Dept</th>\n",
       "      <th>Weekly_Sales</th>\n",
       "      <th>IsHoliday</th>\n",
       "      <th>Temperature</th>\n",
       "      <th>Fuel_Price</th>\n",
       "      <th>MarkDown1</th>\n",
       "      <th>MarkDown2</th>\n",
       "      <th>MarkDown3</th>\n",
       "      <th>MarkDown4</th>\n",
       "      <th>MarkDown5</th>\n",
       "      <th>CPI</th>\n",
       "      <th>Unemployment</th>\n",
       "      <th>Type</th>\n",
       "      <th>Size</th>\n",
       "    </tr>\n",
       "  </thead>\n",
       "  <tbody>\n",
       "    <tr>\n",
       "      <th>0</th>\n",
       "      <td>0</td>\n",
       "      <td>1</td>\n",
       "      <td>2010-02-05</td>\n",
       "      <td>1</td>\n",
       "      <td>24924.50</td>\n",
       "      <td>0</td>\n",
       "      <td>42.31</td>\n",
       "      <td>2.572</td>\n",
       "      <td>0.0</td>\n",
       "      <td>0.0</td>\n",
       "      <td>0.0</td>\n",
       "      <td>0.0</td>\n",
       "      <td>0.0</td>\n",
       "      <td>211.096358</td>\n",
       "      <td>8.106</td>\n",
       "      <td>3.0</td>\n",
       "      <td>151315.0</td>\n",
       "    </tr>\n",
       "    <tr>\n",
       "      <th>1</th>\n",
       "      <td>1</td>\n",
       "      <td>1</td>\n",
       "      <td>2010-02-05</td>\n",
       "      <td>26</td>\n",
       "      <td>11737.12</td>\n",
       "      <td>0</td>\n",
       "      <td>42.31</td>\n",
       "      <td>2.572</td>\n",
       "      <td>0.0</td>\n",
       "      <td>0.0</td>\n",
       "      <td>0.0</td>\n",
       "      <td>0.0</td>\n",
       "      <td>0.0</td>\n",
       "      <td>211.096358</td>\n",
       "      <td>8.106</td>\n",
       "      <td>3.0</td>\n",
       "      <td>151315.0</td>\n",
       "    </tr>\n",
       "    <tr>\n",
       "      <th>2</th>\n",
       "      <td>2</td>\n",
       "      <td>1</td>\n",
       "      <td>2010-02-05</td>\n",
       "      <td>17</td>\n",
       "      <td>13223.76</td>\n",
       "      <td>0</td>\n",
       "      <td>42.31</td>\n",
       "      <td>2.572</td>\n",
       "      <td>0.0</td>\n",
       "      <td>0.0</td>\n",
       "      <td>0.0</td>\n",
       "      <td>0.0</td>\n",
       "      <td>0.0</td>\n",
       "      <td>211.096358</td>\n",
       "      <td>8.106</td>\n",
       "      <td>3.0</td>\n",
       "      <td>151315.0</td>\n",
       "    </tr>\n",
       "    <tr>\n",
       "      <th>3</th>\n",
       "      <td>3</td>\n",
       "      <td>1</td>\n",
       "      <td>2010-02-05</td>\n",
       "      <td>45</td>\n",
       "      <td>37.44</td>\n",
       "      <td>0</td>\n",
       "      <td>42.31</td>\n",
       "      <td>2.572</td>\n",
       "      <td>0.0</td>\n",
       "      <td>0.0</td>\n",
       "      <td>0.0</td>\n",
       "      <td>0.0</td>\n",
       "      <td>0.0</td>\n",
       "      <td>211.096358</td>\n",
       "      <td>NaN</td>\n",
       "      <td>3.0</td>\n",
       "      <td>151315.0</td>\n",
       "    </tr>\n",
       "    <tr>\n",
       "      <th>4</th>\n",
       "      <td>4</td>\n",
       "      <td>1</td>\n",
       "      <td>2010-02-05</td>\n",
       "      <td>28</td>\n",
       "      <td>1085.29</td>\n",
       "      <td>0</td>\n",
       "      <td>42.31</td>\n",
       "      <td>2.572</td>\n",
       "      <td>0.0</td>\n",
       "      <td>0.0</td>\n",
       "      <td>0.0</td>\n",
       "      <td>0.0</td>\n",
       "      <td>0.0</td>\n",
       "      <td>211.096358</td>\n",
       "      <td>NaN</td>\n",
       "      <td>3.0</td>\n",
       "      <td>151315.0</td>\n",
       "    </tr>\n",
       "  </tbody>\n",
       "</table>\n",
       "</div>"
      ],
      "text/plain": [
       "   index  Store_ID       Date  Dept  ...         CPI  Unemployment  Type      Size\n",
       "0      0         1 2010-02-05     1  ...  211.096358         8.106   3.0  151315.0\n",
       "1      1         1 2010-02-05    26  ...  211.096358         8.106   3.0  151315.0\n",
       "2      2         1 2010-02-05    17  ...  211.096358         8.106   3.0  151315.0\n",
       "3      3         1 2010-02-05    45  ...  211.096358           NaN   3.0  151315.0\n",
       "4      4         1 2010-02-05    28  ...  211.096358           NaN   3.0  151315.0\n",
       "\n",
       "[5 rows x 17 columns]"
      ]
     },
     "execution_count": 152,
     "metadata": {},
     "output_type": "execute_result"
    }
   ],
   "source": [
    "merged_df = extract(grocery_sales,'extra_data.parquet')\n",
    "merged_df.head()"
   ]
  },
  {
   "cell_type": "code",
   "execution_count": 153,
   "id": "1eac5592-e1f1-41ad-95b1-bd5cbc04332a",
   "metadata": {
    "executionCancelledAt": null,
    "executionTime": 53,
    "lastExecutedAt": 1712843647626,
    "lastExecutedByKernel": "2ecbf671-bddd-4606-a328-03b1d5a7dde9",
    "lastScheduledRunId": null,
    "lastSuccessfullyExecutedCode": "merged_df.isna().sum()"
   },
   "outputs": [
    {
     "data": {
      "text/plain": [
       "index            0\n",
       "Store_ID         0\n",
       "Date            39\n",
       "Dept             0\n",
       "Weekly_Sales    38\n",
       "IsHoliday        0\n",
       "Temperature      0\n",
       "Fuel_Price       0\n",
       "MarkDown1        0\n",
       "MarkDown2        0\n",
       "MarkDown3        0\n",
       "MarkDown4        1\n",
       "MarkDown5        1\n",
       "CPI             47\n",
       "Unemployment    37\n",
       "Type             1\n",
       "Size             1\n",
       "dtype: int64"
      ]
     },
     "execution_count": 153,
     "metadata": {},
     "output_type": "execute_result"
    }
   ],
   "source": [
    "merged_df.isna().sum()"
   ]
  },
  {
   "cell_type": "code",
   "execution_count": 154,
   "id": "be719ef6-535d-4c46-968b-df54ed202c5f",
   "metadata": {
    "executionCancelledAt": null,
    "executionTime": 52,
    "lastExecutedAt": 1712843647678,
    "lastExecutedByKernel": "2ecbf671-bddd-4606-a328-03b1d5a7dde9",
    "lastScheduledRunId": null,
    "lastSuccessfullyExecutedCode": "def transform(df):\n    df.fillna({\n        'Weekly_Sales':df['Weekly_Sales'].mean(),\n        'MarkDown4':df['MarkDown4'].mode(),\n        'MarkDown5':df['MarkDown5'].mode(),\n        'CPI':df['CPI'].mean(),\n        'Unemployment':df['Unemployment'].mean(),\n        'Type':df['Type'].mode(),\n        'Size':df['Size'].mode(),\n    }, inplace= True)\n    df.fillna(method = 'ffill', inplace=True)\n    \n    df['Month'] = df['Date'].dt.month\n    \n    df = df[df['Weekly_Sales'] > 10000]\n    \n    df = df[[\"Store_ID\",\"Month\",\"Dept\",\"IsHoliday\",\"Weekly_Sales\",\"CPI\",\"Unemployment\"]]\n\n    return df"
   },
   "outputs": [],
   "source": [
    "def transform(df):\n",
    "    df.fillna({\n",
    "        'Weekly_Sales':df['Weekly_Sales'].mean(),\n",
    "        'MarkDown4':df['MarkDown4'].mode(),\n",
    "        'MarkDown5':df['MarkDown5'].mode(),\n",
    "        'CPI':df['CPI'].mean(),\n",
    "        'Unemployment':df['Unemployment'].mean(),\n",
    "        'Type':df['Type'].mode(),\n",
    "        'Size':df['Size'].mode(),\n",
    "    }, inplace= True)\n",
    "    df.fillna(method = 'ffill', inplace=True)\n",
    "    \n",
    "    df['Month'] = df['Date'].dt.month\n",
    "    \n",
    "    df = df[df['Weekly_Sales'] > 10000]\n",
    "    \n",
    "    df = df[[\"Store_ID\",\"Month\",\"Dept\",\"IsHoliday\",\"Weekly_Sales\",\"CPI\",\"Unemployment\"]]\n",
    "\n",
    "    return df"
   ]
  },
  {
   "cell_type": "code",
   "execution_count": 155,
   "id": "126b7db1-6775-4893-b8ae-bfc6d6fe6201",
   "metadata": {
    "executionCancelledAt": null,
    "executionTime": 69,
    "lastExecutedAt": 1712843647747,
    "lastExecutedByKernel": "2ecbf671-bddd-4606-a328-03b1d5a7dde9",
    "lastScheduledRunId": null,
    "lastSuccessfullyExecutedCode": "clean_data = transform(merged_df)\nclean_data.head()",
    "outputsMetadata": {
     "0": {
      "height": 194,
      "type": "dataFrame"
     }
    }
   },
   "outputs": [
    {
     "data": {
      "application/com.datacamp.data-table.v2+json": {
       "table": {
        "data": {
         "CPI": [
          211.0963582,
          211.0963582,
          211.0963582,
          211.0963582,
          211.0963582
         ],
         "Dept": [
          1,
          26,
          17,
          79,
          55
         ],
         "IsHoliday": [
          0,
          0,
          0,
          0,
          0
         ],
         "Month": [
          2,
          2,
          2,
          2,
          2
         ],
         "Store_ID": [
          1,
          1,
          1,
          1,
          1
         ],
         "Unemployment": [
          8.106,
          8.106,
          8.106,
          7.5000522323,
          7.5000522323
         ],
         "Weekly_Sales": [
          24924.5,
          11737.12,
          13223.76,
          46729.77,
          21249.31
         ],
         "index": [
          0,
          1,
          2,
          5,
          6
         ]
        },
        "schema": {
         "fields": [
          {
           "name": "index",
           "type": "integer"
          },
          {
           "name": "Store_ID",
           "type": "integer"
          },
          {
           "name": "Month",
           "type": "integer"
          },
          {
           "name": "Dept",
           "type": "integer"
          },
          {
           "name": "IsHoliday",
           "type": "integer"
          },
          {
           "name": "Weekly_Sales",
           "type": "number"
          },
          {
           "name": "CPI",
           "type": "number"
          },
          {
           "name": "Unemployment",
           "type": "number"
          }
         ],
         "pandas_version": "1.4.0",
         "primaryKey": [
          "index"
         ]
        }
       },
       "total_rows": 5,
       "truncation_type": null
      },
      "text/html": [
       "<div>\n",
       "<style scoped>\n",
       "    .dataframe tbody tr th:only-of-type {\n",
       "        vertical-align: middle;\n",
       "    }\n",
       "\n",
       "    .dataframe tbody tr th {\n",
       "        vertical-align: top;\n",
       "    }\n",
       "\n",
       "    .dataframe thead th {\n",
       "        text-align: right;\n",
       "    }\n",
       "</style>\n",
       "<table border=\"1\" class=\"dataframe\">\n",
       "  <thead>\n",
       "    <tr style=\"text-align: right;\">\n",
       "      <th></th>\n",
       "      <th>Store_ID</th>\n",
       "      <th>Month</th>\n",
       "      <th>Dept</th>\n",
       "      <th>IsHoliday</th>\n",
       "      <th>Weekly_Sales</th>\n",
       "      <th>CPI</th>\n",
       "      <th>Unemployment</th>\n",
       "    </tr>\n",
       "  </thead>\n",
       "  <tbody>\n",
       "    <tr>\n",
       "      <th>0</th>\n",
       "      <td>1</td>\n",
       "      <td>2</td>\n",
       "      <td>1</td>\n",
       "      <td>0</td>\n",
       "      <td>24924.50</td>\n",
       "      <td>211.096358</td>\n",
       "      <td>8.106000</td>\n",
       "    </tr>\n",
       "    <tr>\n",
       "      <th>1</th>\n",
       "      <td>1</td>\n",
       "      <td>2</td>\n",
       "      <td>26</td>\n",
       "      <td>0</td>\n",
       "      <td>11737.12</td>\n",
       "      <td>211.096358</td>\n",
       "      <td>8.106000</td>\n",
       "    </tr>\n",
       "    <tr>\n",
       "      <th>2</th>\n",
       "      <td>1</td>\n",
       "      <td>2</td>\n",
       "      <td>17</td>\n",
       "      <td>0</td>\n",
       "      <td>13223.76</td>\n",
       "      <td>211.096358</td>\n",
       "      <td>8.106000</td>\n",
       "    </tr>\n",
       "    <tr>\n",
       "      <th>5</th>\n",
       "      <td>1</td>\n",
       "      <td>2</td>\n",
       "      <td>79</td>\n",
       "      <td>0</td>\n",
       "      <td>46729.77</td>\n",
       "      <td>211.096358</td>\n",
       "      <td>7.500052</td>\n",
       "    </tr>\n",
       "    <tr>\n",
       "      <th>6</th>\n",
       "      <td>1</td>\n",
       "      <td>2</td>\n",
       "      <td>55</td>\n",
       "      <td>0</td>\n",
       "      <td>21249.31</td>\n",
       "      <td>211.096358</td>\n",
       "      <td>7.500052</td>\n",
       "    </tr>\n",
       "  </tbody>\n",
       "</table>\n",
       "</div>"
      ],
      "text/plain": [
       "   Store_ID  Month  Dept  IsHoliday  Weekly_Sales         CPI  Unemployment\n",
       "0         1      2     1          0      24924.50  211.096358      8.106000\n",
       "1         1      2    26          0      11737.12  211.096358      8.106000\n",
       "2         1      2    17          0      13223.76  211.096358      8.106000\n",
       "5         1      2    79          0      46729.77  211.096358      7.500052\n",
       "6         1      2    55          0      21249.31  211.096358      7.500052"
      ]
     },
     "execution_count": 155,
     "metadata": {},
     "output_type": "execute_result"
    }
   ],
   "source": [
    "clean_data = transform(merged_df)\n",
    "clean_data.head()"
   ]
  },
  {
   "cell_type": "code",
   "execution_count": 156,
   "id": "09d044b7-bb10-45a8-a13f-c882f7a59028",
   "metadata": {
    "executionCancelledAt": null,
    "executionTime": 55,
    "lastExecutedAt": 1712843647802,
    "lastExecutedByKernel": "2ecbf671-bddd-4606-a328-03b1d5a7dde9",
    "lastScheduledRunId": null,
    "lastSuccessfullyExecutedCode": "clean_data.isna().sum()"
   },
   "outputs": [
    {
     "data": {
      "text/plain": [
       "Store_ID        0\n",
       "Month           0\n",
       "Dept            0\n",
       "IsHoliday       0\n",
       "Weekly_Sales    0\n",
       "CPI             0\n",
       "Unemployment    0\n",
       "dtype: int64"
      ]
     },
     "execution_count": 156,
     "metadata": {},
     "output_type": "execute_result"
    }
   ],
   "source": [
    "clean_data.isna().sum()"
   ]
  },
  {
   "cell_type": "code",
   "execution_count": 157,
   "id": "b63dd9e2-3daa-4c9e-8297-91a2089d5db7",
   "metadata": {
    "executionCancelledAt": null,
    "executionTime": 52,
    "lastExecutedAt": 1712843647854,
    "lastExecutedByKernel": "2ecbf671-bddd-4606-a328-03b1d5a7dde9",
    "lastScheduledRunId": null,
    "lastSuccessfullyExecutedCode": "def avg_monthly_sales(df):\n    df = pd.DataFrame(data = df.groupby('Month').Weekly_Sales.agg('mean'))\n    df.reset_index(inplace=True)\n    df.columns = ['Month','Avg_Sales']\n    df['Avg_Sales'] = df['Avg_Sales'].round(decimals = 2)\n    return df"
   },
   "outputs": [],
   "source": [
    "def avg_monthly_sales(df):\n",
    "    df = pd.DataFrame(data = df.groupby('Month').Weekly_Sales.agg('mean'))\n",
    "    df.reset_index(inplace=True)\n",
    "    df.columns = ['Month','Avg_Sales']\n",
    "    df['Avg_Sales'] = df['Avg_Sales'].round(decimals = 2)\n",
    "    return df"
   ]
  },
  {
   "cell_type": "code",
   "execution_count": 158,
   "id": "d5d44d26-0a42-40fd-a024-c5627e353b6e",
   "metadata": {
    "executionCancelledAt": null,
    "executionTime": 48,
    "lastExecutedAt": 1712843647902,
    "lastExecutedByKernel": "2ecbf671-bddd-4606-a328-03b1d5a7dde9",
    "lastScheduledRunId": null,
    "lastSuccessfullyExecutedCode": "agg_data = avg_monthly_sales(clean_df)\nagg_data.head(13)",
    "outputsMetadata": {
     "0": {
      "height": 318,
      "type": "dataFrame"
     },
     "1": {
      "height": 196,
      "type": "dataFrame"
     }
    }
   },
   "outputs": [
    {
     "data": {
      "application/com.datacamp.data-table.v2+json": {
       "table": {
        "data": {
         "Avg_Sales": [
          33174.18,
          34333.33,
          33220.89,
          33392.37,
          33339.89,
          34582.47,
          33922.76,
          33644.79,
          33258.05,
          32736.99,
          36594.03,
          39238.8
         ],
         "Month": [
          1,
          2,
          3,
          4,
          5,
          6,
          7,
          8,
          9,
          10,
          11,
          12
         ],
         "index": [
          0,
          1,
          2,
          3,
          4,
          5,
          6,
          7,
          8,
          9,
          10,
          11
         ]
        },
        "schema": {
         "fields": [
          {
           "name": "index",
           "type": "integer"
          },
          {
           "name": "Month",
           "type": "number"
          },
          {
           "name": "Avg_Sales",
           "type": "number"
          }
         ],
         "pandas_version": "1.4.0",
         "primaryKey": [
          "index"
         ]
        }
       },
       "total_rows": 12,
       "truncation_type": null
      },
      "text/html": [
       "<div>\n",
       "<style scoped>\n",
       "    .dataframe tbody tr th:only-of-type {\n",
       "        vertical-align: middle;\n",
       "    }\n",
       "\n",
       "    .dataframe tbody tr th {\n",
       "        vertical-align: top;\n",
       "    }\n",
       "\n",
       "    .dataframe thead th {\n",
       "        text-align: right;\n",
       "    }\n",
       "</style>\n",
       "<table border=\"1\" class=\"dataframe\">\n",
       "  <thead>\n",
       "    <tr style=\"text-align: right;\">\n",
       "      <th></th>\n",
       "      <th>Month</th>\n",
       "      <th>Avg_Sales</th>\n",
       "    </tr>\n",
       "  </thead>\n",
       "  <tbody>\n",
       "    <tr>\n",
       "      <th>0</th>\n",
       "      <td>1.0</td>\n",
       "      <td>33174.18</td>\n",
       "    </tr>\n",
       "    <tr>\n",
       "      <th>1</th>\n",
       "      <td>2.0</td>\n",
       "      <td>34333.33</td>\n",
       "    </tr>\n",
       "    <tr>\n",
       "      <th>2</th>\n",
       "      <td>3.0</td>\n",
       "      <td>33220.89</td>\n",
       "    </tr>\n",
       "    <tr>\n",
       "      <th>3</th>\n",
       "      <td>4.0</td>\n",
       "      <td>33392.37</td>\n",
       "    </tr>\n",
       "    <tr>\n",
       "      <th>4</th>\n",
       "      <td>5.0</td>\n",
       "      <td>33339.89</td>\n",
       "    </tr>\n",
       "    <tr>\n",
       "      <th>5</th>\n",
       "      <td>6.0</td>\n",
       "      <td>34582.47</td>\n",
       "    </tr>\n",
       "    <tr>\n",
       "      <th>6</th>\n",
       "      <td>7.0</td>\n",
       "      <td>33922.76</td>\n",
       "    </tr>\n",
       "    <tr>\n",
       "      <th>7</th>\n",
       "      <td>8.0</td>\n",
       "      <td>33644.79</td>\n",
       "    </tr>\n",
       "    <tr>\n",
       "      <th>8</th>\n",
       "      <td>9.0</td>\n",
       "      <td>33258.05</td>\n",
       "    </tr>\n",
       "    <tr>\n",
       "      <th>9</th>\n",
       "      <td>10.0</td>\n",
       "      <td>32736.99</td>\n",
       "    </tr>\n",
       "    <tr>\n",
       "      <th>10</th>\n",
       "      <td>11.0</td>\n",
       "      <td>36594.03</td>\n",
       "    </tr>\n",
       "    <tr>\n",
       "      <th>11</th>\n",
       "      <td>12.0</td>\n",
       "      <td>39238.80</td>\n",
       "    </tr>\n",
       "  </tbody>\n",
       "</table>\n",
       "</div>"
      ],
      "text/plain": [
       "    Month  Avg_Sales\n",
       "0     1.0   33174.18\n",
       "1     2.0   34333.33\n",
       "2     3.0   33220.89\n",
       "3     4.0   33392.37\n",
       "4     5.0   33339.89\n",
       "5     6.0   34582.47\n",
       "6     7.0   33922.76\n",
       "7     8.0   33644.79\n",
       "8     9.0   33258.05\n",
       "9    10.0   32736.99\n",
       "10   11.0   36594.03\n",
       "11   12.0   39238.80"
      ]
     },
     "execution_count": 158,
     "metadata": {},
     "output_type": "execute_result"
    }
   ],
   "source": [
    "agg_data = avg_monthly_sales(clean_df)\n",
    "agg_data.head(13)"
   ]
  },
  {
   "cell_type": "code",
   "execution_count": 159,
   "id": "c201a598-818c-4793-bc1f-8baea159583b",
   "metadata": {
    "executionCancelledAt": null,
    "executionTime": 48,
    "lastExecutedAt": 1712843647950,
    "lastExecutedByKernel": "2ecbf671-bddd-4606-a328-03b1d5a7dde9",
    "lastScheduledRunId": null,
    "lastSuccessfullyExecutedCode": "def load(df1,df2,path1,path2):\n    df1.to_csv(path1, index=False)\n    df2.to_csv(path2, index=False)"
   },
   "outputs": [],
   "source": [
    "def load(df1,df2,path1,path2):\n",
    "    df1.to_csv(path1, index=False)\n",
    "    df2.to_csv(path2, index=False)"
   ]
  },
  {
   "cell_type": "code",
   "execution_count": 160,
   "id": "4892d2e0-b352-4a6f-9b4a-69e43a9a91ed",
   "metadata": {
    "executionCancelledAt": null,
    "executionTime": 382,
    "lastExecutedAt": 1712843648332,
    "lastExecutedByKernel": "2ecbf671-bddd-4606-a328-03b1d5a7dde9",
    "lastScheduledRunId": null,
    "lastSuccessfullyExecutedCode": "load(clean_data,agg_data,'clean_data.csv','agg_data.csv')"
   },
   "outputs": [],
   "source": [
    "load(clean_data,agg_data,'clean_data.csv','agg_data.csv')"
   ]
  },
  {
   "cell_type": "code",
   "execution_count": 161,
   "id": "bf6652a9-159f-4324-be42-fec9fa696e6c",
   "metadata": {
    "executionCancelledAt": null,
    "executionTime": 48,
    "lastExecutedAt": 1712843648382,
    "lastExecutedByKernel": "2ecbf671-bddd-4606-a328-03b1d5a7dde9",
    "lastScheduledRunId": null,
    "lastSuccessfullyExecutedCode": "def validation(path1):\n    if os.path.exists(path1) == 0:\n        raise Exception('Path 1 does not exists.')\n"
   },
   "outputs": [],
   "source": [
    "def validation(path1):\n",
    "    if os.path.exists(path1) == 0:\n",
    "        raise Exception('Path 1 does not exists.')\n"
   ]
  },
  {
   "cell_type": "code",
   "execution_count": 162,
   "id": "0bd276ad-bb6a-431e-9960-a2755db4b479",
   "metadata": {
    "executionCancelledAt": null,
    "executionTime": 50,
    "lastExecutedAt": 1712843648432,
    "lastExecutedByKernel": "2ecbf671-bddd-4606-a328-03b1d5a7dde9",
    "lastScheduledRunId": null,
    "lastSuccessfullyExecutedCode": "validation('clean_data.csv')"
   },
   "outputs": [],
   "source": [
    "validation('clean_data.csv')"
   ]
  }
 ],
 "metadata": {
  "colab": {
   "name": "Welcome to DataCamp Workspaces.ipynb",
   "provenance": []
  },
  "kernelspec": {
   "display_name": "Python 3 (ipykernel)",
   "language": "python",
   "name": "python3"
  },
  "language_info": {
   "codemirror_mode": {
    "name": "ipython",
    "version": 3
   },
   "file_extension": ".py",
   "mimetype": "text/x-python",
   "name": "python",
   "nbconvert_exporter": "python",
   "pygments_lexer": "ipython3",
   "version": "3.11.4"
  }
 },
 "nbformat": 4,
 "nbformat_minor": 5
}
